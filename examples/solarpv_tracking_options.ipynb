{
 "cells": [
  {
   "cell_type": "markdown",
   "id": "105780fd",
   "metadata": {},
   "source": [
    "# Solar PV tracking options"
   ]
  },
  {
   "cell_type": "code",
   "execution_count": null,
   "id": "4f7e1488",
   "metadata": {
    "tags": []
   },
   "outputs": [],
   "source": [
    "import matplotlib.pyplot as plt\n",
    "import geopandas as gpd\n",
    "import atlite"
   ]
  },
  {
   "cell_type": "markdown",
   "id": "6ab194fa-776d-484b-bdba-4d26ecb669a3",
   "metadata": {},
   "source": [
    "## Download cutout data for Portugal"
   ]
  },
  {
   "cell_type": "code",
   "execution_count": null,
   "id": "f38a84d2-be15-474e-b079-f9d4ab5eab74",
   "metadata": {
    "tags": []
   },
   "outputs": [],
   "source": [
    "world = gpd.read_file(gpd.datasets.get_path(\"naturalearth_lowres\"))\n",
    "portugal = world.query('name == \"Portugal\"')"
   ]
  },
  {
   "cell_type": "code",
   "execution_count": null,
   "id": "1085b9ce-e2ef-409c-b9fc-f417cdd9c379",
   "metadata": {
    "tags": []
   },
   "outputs": [],
   "source": [
    "portugal.plot();"
   ]
  },
  {
   "cell_type": "code",
   "execution_count": null,
   "id": "baaf3a5f",
   "metadata": {
    "tags": []
   },
   "outputs": [],
   "source": [
    "cutout = atlite.Cutout(\n",
    "    path=\"port-era5-2019-05.nc\",\n",
    "    module=\"era5\",\n",
    "    bounds=portugal.iloc[0].geometry.bounds,\n",
    "    time=\"2019-05\",\n",
    ")\n",
    "\n",
    "cutout.prepare([\"influx\", \"temperature\"])"
   ]
  },
  {
   "cell_type": "markdown",
   "id": "a0660ce6",
   "metadata": {},
   "source": [
    "## Calculate capacity factors for the three solar PV tracking options"
   ]
  },
  {
   "cell_type": "markdown",
   "id": "dd14db5e",
   "metadata": {},
   "source": [
    "- `tracking=None` for no tracking\n",
    "- `tracking='horizontal'` for 1-axis horizontal tracking\n",
    "- `tracking='tilted_horizontal'` for 1-axis horizontal tracking with tilted axis\n",
    "- `tracking='vertical'` for 1-axis vertical tracking\n",
    "- `tracking='dual'` for 2-axis tracking"
   ]
  },
  {
   "cell_type": "markdown",
   "id": "a074d815",
   "metadata": {},
   "source": [
    "### No tracking"
   ]
  },
  {
   "cell_type": "code",
   "execution_count": null,
   "id": "45d52245-09e9-4429-82c0-a0fd41e5f869",
   "metadata": {
    "tags": []
   },
   "outputs": [],
   "source": [
    "cf_pv_0axis = cutout.pv(\n",
    "    panel=\"CSi\",\n",
    "    orientation={\"slope\": 30.0, \"azimuth\": 180.0},\n",
    "    shapes=cutout.grid,\n",
    "    tracking=None,\n",
    "    per_unit=True,\n",
    ")\n",
    "\n",
    "round(cf_pv_0axis.to_pandas().mean().mean(), 3)"
   ]
  },
  {
   "cell_type": "markdown",
   "id": "7d4694ed",
   "metadata": {},
   "source": [
    "### 1-axis horizontal tracking"
   ]
  },
  {
   "cell_type": "code",
   "execution_count": null,
   "id": "91fa6f61",
   "metadata": {
    "tags": []
   },
   "outputs": [],
   "source": [
    "cf_pv_1axis_h = cutout.pv(\n",
    "    panel=\"CSi\",\n",
    "    orientation={\"slope\": 30.0, \"azimuth\": 180.0},\n",
    "    shapes=cutout.grid,\n",
    "    tracking=\"horizontal\",\n",
    "    per_unit=True,\n",
    ")\n",
    "\n",
    "round(cf_pv_1axis_h.to_pandas().mean().mean(), 3)"
   ]
  },
  {
   "cell_type": "markdown",
   "id": "b11087ed",
   "metadata": {},
   "source": [
    "### 1-axis tilted-panel horizontal tracking"
   ]
  },
  {
   "cell_type": "code",
   "execution_count": null,
   "id": "10049590",
   "metadata": {
    "tags": []
   },
   "outputs": [],
   "source": [
    "cf_pv_1axis_th = cutout.pv(\n",
    "    panel=\"CSi\",\n",
    "    orientation={\"slope\": 30.0, \"azimuth\": 180.0},\n",
    "    shapes=cutout.grid,\n",
    "    tracking=\"tilted_horizontal\",\n",
    "    per_unit=True,\n",
    ")\n",
    "\n",
    "round(cf_pv_1axis_th.to_pandas().mean().mean(), 3)"
   ]
  },
  {
   "cell_type": "markdown",
   "id": "80802589",
   "metadata": {},
   "source": [
    "### 1-axis vertical tracking"
   ]
  },
  {
   "cell_type": "code",
   "execution_count": null,
   "id": "0b1b1995",
   "metadata": {
    "tags": []
   },
   "outputs": [],
   "source": [
    "cf_pv_1axis_v = cutout.pv(\n",
    "    panel=\"CSi\",\n",
    "    orientation={\"slope\": 30.0, \"azimuth\": 180.0},\n",
    "    shapes=cutout.grid,\n",
    "    tracking=\"vertical\",\n",
    "    per_unit=True,\n",
    ")\n",
    "\n",
    "round(cf_pv_1axis_v.to_pandas().mean().mean(), 3)"
   ]
  },
  {
   "cell_type": "markdown",
   "id": "18467b5e",
   "metadata": {},
   "source": [
    "### 2-axis vertical tracking"
   ]
  },
  {
   "cell_type": "code",
   "execution_count": null,
   "id": "40b349a5",
   "metadata": {
    "tags": []
   },
   "outputs": [],
   "source": [
    "cf_pv_2axis = cutout.pv(\n",
    "    panel=\"CSi\",\n",
    "    orientation={\"slope\": 30.0, \"azimuth\": 180.0},\n",
    "    shapes=cutout.grid,\n",
    "    tracking=\"dual\",\n",
    "    per_unit=True,\n",
    ")\n",
    "\n",
    "round(cf_pv_2axis.to_pandas().mean().mean(), 3)"
   ]
  },
  {
   "cell_type": "markdown",
   "id": "93bcaf0a",
   "metadata": {},
   "source": [
    "## Comparison of Time Series"
   ]
  },
  {
   "cell_type": "code",
   "execution_count": null,
   "id": "e88290e6-cebd-4595-9aa9-e4c31b0a0dc6",
   "metadata": {
    "tags": []
   },
   "outputs": [],
   "source": [
    "cells = cutout.grid\n",
    "point = cells[(cells[\"y\"] == 42) & (cells[\"x\"] == -9)].index"
   ]
  },
  {
   "cell_type": "code",
   "execution_count": null,
   "id": "0389a0b7",
   "metadata": {
    "tags": []
   },
   "outputs": [],
   "source": [
    "fig, ax = plt.subplots(figsize=(10,4))\n",
    "day = \"2019-05-01\"\n",
    "plt.plot(cf_pv_2axis.to_pandas().loc[day,point])\n",
    "plt.plot(cf_pv_1axis_v.to_pandas().loc[day,point])\n",
    "plt.plot(cf_pv_1axis_h.to_pandas().loc[day,point])\n",
    "plt.plot(cf_pv_1axis_th.to_pandas().loc[day,point])\n",
    "plt.plot(cf_pv_0axis.to_pandas().loc[day,point])\n",
    "\n",
    "\n",
    "labels = [\n",
    "    \"2-axis tracking\",\n",
    "    \"1-axis vertical tracking\",\n",
    "    \"1-axis horizontal tracking\",\n",
    "    \"1-axis tilted horizontal tracking\",\n",
    "    \"No tracking\"\n",
    "]\n",
    "plt.legend(labels, frameon=False)\n",
    "plt.title(\"PV Tracking: Portugal @(-9°, 40°), May 1, 2019\")"
   ]
  },
  {
   "cell_type": "code",
   "execution_count": null,
   "id": "e376f99b",
   "metadata": {},
   "outputs": [],
   "source": []
  }
 ],
 "metadata": {
  "kernelspec": {
   "display_name": "Python 3 (ipykernel)",
   "language": "python",
   "name": "python3"
  },
  "language_info": {
   "codemirror_mode": {
    "name": "ipython",
    "version": 3
   },
   "file_extension": ".py",
   "mimetype": "text/x-python",
   "name": "python",
   "nbconvert_exporter": "python",
   "pygments_lexer": "ipython3",
   "version": "3.11.3"
  }
 },
 "nbformat": 4,
 "nbformat_minor": 5
}
